{
 "cells": [
  {
   "cell_type": "code",
   "execution_count": 4,
   "metadata": {},
   "outputs": [
    {
     "name": "stderr",
     "output_type": "stream",
     "text": [
      "/Users/oceanriver/anaconda3/lib/python3.11/site-packages/transformers/utils/generic.py:260: UserWarning: torch.utils._pytree._register_pytree_node is deprecated. Please use torch.utils._pytree.register_pytree_node instead.\n",
      "  torch.utils._pytree._register_pytree_node(\n"
     ]
    },
    {
     "ename": "NameError",
     "evalue": "name 'tweets_data' is not defined",
     "output_type": "error",
     "traceback": [
      "\u001b[0;31m---------------------------------------------------------------------------\u001b[0m",
      "\u001b[0;31mNameError\u001b[0m                                 Traceback (most recent call last)",
      "Cell \u001b[0;32mIn[4], line 10\u001b[0m\n\u001b[1;32m      2\u001b[0m \u001b[38;5;28;01mfrom\u001b[39;00m \u001b[38;5;21;01msimpletransformers\u001b[39;00m\u001b[38;5;21;01m.\u001b[39;00m\u001b[38;5;21;01mclassification\u001b[39;00m \u001b[38;5;28;01mimport\u001b[39;00m ClassificationModel\n\u001b[1;32m      4\u001b[0m \u001b[38;5;66;03m# Load your Russian tweets data into a pandas DataFrame\u001b[39;00m\n\u001b[1;32m      5\u001b[0m \u001b[38;5;66;03m# Ensure you have two columns: \"text\" for the tweet text, and \"sentiment\" for the sentiment label (0 for negative, 1 for positive)\u001b[39;00m\n\u001b[1;32m      6\u001b[0m \u001b[38;5;66;03m# Example:\u001b[39;00m\n\u001b[1;32m      7\u001b[0m \u001b[38;5;66;03m# tweets_data = pd.read_csv('russian_tweets.csv')\u001b[39;00m\n\u001b[1;32m      8\u001b[0m \n\u001b[1;32m      9\u001b[0m \u001b[38;5;66;03m# Splitting data into train and test sets\u001b[39;00m\n\u001b[0;32m---> 10\u001b[0m train_df \u001b[38;5;241m=\u001b[39m tweets_data\u001b[38;5;241m.\u001b[39msample(frac\u001b[38;5;241m=\u001b[39m\u001b[38;5;241m0.8\u001b[39m, random_state\u001b[38;5;241m=\u001b[39m\u001b[38;5;241m42\u001b[39m)\n\u001b[1;32m     11\u001b[0m test_df \u001b[38;5;241m=\u001b[39m tweets_data\u001b[38;5;241m.\u001b[39mdrop(train_df\u001b[38;5;241m.\u001b[39mindex)\n\u001b[1;32m     13\u001b[0m \u001b[38;5;66;03m# Define the model\u001b[39;00m\n",
      "\u001b[0;31mNameError\u001b[0m: name 'tweets_data' is not defined"
     ]
    }
   ],
   "source": [
    "import pandas as pd\n",
    "from simpletransformers.classification import ClassificationModel\n",
    "\n",
    "# Load your Russian tweets data into a pandas DataFrame\n",
    "pd.read_csv\n",
    "# Ensure you have two columns: \"text\" for the tweet text, and \"sentiment\" for the sentiment label (0 for negative, 1 for positive)\n",
    "# Example:\n",
    "# tweets_data = pd.read_csv('russian_tweets.csv')\n",
    "\n",
    "# Splitting data into train and test sets\n",
    "train_df = tweets_data.sample(frac=0.8, random_state=42)\n",
    "test_df = tweets_data.drop(train_df.index)\n",
    "\n",
    "# Define the model\n",
    "model_args = {\n",
    "    'num_train_epochs': 3,\n",
    "    'train_batch_size': 16,\n",
    "    'eval_batch_size': 32,\n",
    "    'overwrite_output_dir': True,\n",
    "    'fp16': False,\n",
    "    'use_early_stopping': True,\n",
    "    'early_stopping_delta': 0.01,\n",
    "    'early_stopping_metric': \"mcc\",\n",
    "    'early_stopping_metric_minimize': False,\n",
    "    'early_stopping_patience': 5,\n",
    "}\n",
    "model = ClassificationModel('bert', 'bert-base-multilingual-cased', num_labels=2, args=model_args)\n",
    "\n",
    "# Train the model\n",
    "model.train_model(train_df)\n",
    "\n",
    "# Evaluate the model\n",
    "result, model_outputs, wrong_predictions = model.eval_model(test_df)\n",
    "\n",
    "# Define a function to map sentiment labels to 'negative' and 'positive'\n",
    "def map_sentiment_label(label):\n",
    "    return 'negative' if label == 0 else 'positive'\n",
    "\n",
    "# Make predictions on new data\n",
    "def predict_sentiment(tweet):\n",
    "    predictions, _ = model.predict([tweet])\n",
    "    sentiment_label = predictions[0]\n",
    "    sentiment = map_sentiment_label(sentiment_label)\n",
    "    return sentiment\n",
    "\n",
    "# Example usage\n",
    "new_tweet = \"Это был ужасный день, ничего не удалось сделать.\"\n",
    "predicted_sentiment = predict_sentiment(new_tweet)\n",
    "print(\"Predicted sentiment:\", predicted_sentiment)"
   ]
  }
 ],
 "metadata": {
  "kernelspec": {
   "display_name": "base",
   "language": "python",
   "name": "python3"
  },
  "language_info": {
   "codemirror_mode": {
    "name": "ipython",
    "version": 3
   },
   "file_extension": ".py",
   "mimetype": "text/x-python",
   "name": "python",
   "nbconvert_exporter": "python",
   "pygments_lexer": "ipython3",
   "version": "3.11.5"
  }
 },
 "nbformat": 4,
 "nbformat_minor": 2
}
